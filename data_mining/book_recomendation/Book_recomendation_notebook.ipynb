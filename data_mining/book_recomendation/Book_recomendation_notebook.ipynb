{
 "cells": [
  {
   "cell_type": "markdown",
   "id": "afb60aee-ad88-491c-91c4-46cc885ed6a4",
   "metadata": {
    "jp-MarkdownHeadingCollapsed": true
   },
   "source": [
    "# <center> Sistema de Recomendación de Libros\n",
    "\n",
    "Desarrolla un sistema de recomendación de libros en Python. La aplicación debe permitir a\n",
    "los usuarios buscar libros por género y recibir recomendaciones basadas en sus intereses.\n",
    "\n",
    "**Instrucciones:**\n",
    "\n",
    "● Define una clase llamada “Libro” con los siguientes atributos: titulo, autor, genero y\n",
    "puntuacion (valor numérico que representa la popularidad del libro). Crea un método\n",
    "__init__ para inicializar estos atributos.\n",
    "\n",
    "● Crea una lista llamada lista_libros donde almacenarás los objetos de la clase Libro.\n",
    "\n",
    "● Implementa un bucle que permita a los usuarios realizar las siguientes acciones:\n",
    "\n",
    "- Agregar Libro: Solicita al usuario que ingrese el título, autor, género y \n",
    "puntuación del libro. Crea un objeto Libro con estos atributos y agrega e \r\n",
    "objeto a la lista lista_libro\n",
    "- Buscar Libros por Género: Pregunta al usuario por un género y muestra una lista de títulos de libros en ese género.\n",
    "- Recomendar Libro: Pregunta al usuario por su género de interés y muestra el título del libro con la puntuación más alta en ese género.\n",
    "- Ejecuta el bucle hasta que el usuario decida salir de la aplicación."
   ]
  },
  {
   "cell_type": "markdown",
   "id": "2177e29a-ddf4-4c83-b1a2-8f958064b005",
   "metadata": {},
   "source": [
    "### A continuación se le proporciona un listado de libros que serán utilizados para probar su programa:\n",
    "\n",
    "  libro1 = Libro(\"Cien años de soledad\", \"Gabriel García Márquez\", \"Ficción\", 4.5)\n",
    "  libro2 = Libro(\"1984\", \"George Orwell\", \"Ciencia Ficción\", 4.3)\n",
    "  libro3 = Libro(\"El Hobbit\", \"J.R.R. Tolkien\", \"Fantasía\", 4.7)- \r",
    "  \n",
    "libro4 = Libro(\"Orgullo y Prejuicio\", \"Jane Austen\", \"Romance\", 4.2- )  \r\n",
    "libro5 = Libro(\"Crimen y Castigo\", \"Fiódor Dostoyevski\", \"Clásico\", 4  .- 4  )\r\n",
    "libro6 = Libro(\"Los Juegos del Hambre\", \"Suzanne Collins\", \"Juvenil\",   4- .  1)\r\n",
    "libro7 = Libro(\"Don Quijote de la Mancha\", \"Miguel de Cervantes\", \"Clásico\",   - 4  .6)\r\n",
    "libro8 = Libro(\"Harry Potter y la Piedra Filosofal\", \"J.K. Rowling\", \"Fantasía\"  ,-    4.8)\r\n",
    "libro9 = Libro(\"Los Pilares de la Tierra\", \"Ken Follett\", \"Histórica  \"- ,   4.4)\r\n",
    "libro10 = Libro(\"Cazadores de Sombras: Ciudad de Hueso\", \"Cassandra Clare\", \"Fantasía\", 4.0)ntasía\", 4.0)"
   ]
  },
  {
   "cell_type": "markdown",
   "id": "eff56ddb-9774-46a6-96e5-dfad190349da",
   "metadata": {},
   "source": [
    "## Plus si le da tiempo\n",
    "\n",
    "Agregar las instrucciones necesarias para que los datos sobre los libros sean leídos por el\r\n",
    "programa desde un archivo CSV y los agregue a la lista de libros."
   ]
  },
  {
   "cell_type": "markdown",
   "id": "c72e399d-0927-4dd5-aa7d-cdf2945832a7",
   "metadata": {},
   "source": [
    "## Entrega\n",
    "\n",
    "El programa debe ser entregado vía git/github al repositorio que Ud. compartió con el\r\n",
    "profesor en la branch “dev”."
   ]
  },
  {
   "cell_type": "markdown",
   "id": "e3504b4a-3d19-4bf3-856f-027655488378",
   "metadata": {
    "jp-MarkdownHeadingCollapsed": true
   },
   "source": [
    "# Dev Notes:\n",
    "\n",
    "- En el notebook se van a incluir celdas de test identificadas con el comment 'Test' en su primera linea, estas seran eliminadas para la version final.\n",
    "- La version final sera guardada como un ejecutable en la misma carpeta que el notebook. "
   ]
  },
  {
   "cell_type": "markdown",
   "id": "d7eb8200-83c7-43b1-a50b-ef79ac2f17e2",
   "metadata": {
    "jp-MarkdownHeadingCollapsed": true
   },
   "source": [
    "# Librerias"
   ]
  },
  {
   "cell_type": "code",
   "execution_count": null,
   "id": "e06e824c-e3e5-4dc1-8cfb-c868773cef05",
   "metadata": {},
   "outputs": [],
   "source": [
    "import pandas as pd\n",
    "import numpy as np\n",
    "import csv"
   ]
  },
  {
   "cell_type": "markdown",
   "id": "1b8f8bbb-abeb-4704-b03a-0dbde3e4b223",
   "metadata": {
    "jp-MarkdownHeadingCollapsed": true
   },
   "source": [
    "# Definicion de la clase 'Libro'"
   ]
  },
  {
   "cell_type": "code",
   "execution_count": null,
   "id": "06049a58-8844-4dd6-9d39-1461226bc093",
   "metadata": {},
   "outputs": [],
   "source": [
    "class Libro:\n",
    "    \"\"\"\n",
    "    Clase para representar el libro en el sistema de recomendacion.\n",
    "\n",
    "    Attributos:\n",
    "    ----------\n",
    "    titulo : str\n",
    "        Titulo del libro.\n",
    "    autor : str\n",
    "        Author del libro.\n",
    "    genero : str\n",
    "        Genero del libro.\n",
    "    puntuacion : float\n",
    "        Rating del libro(debe ser un decimal entre 0 y 5).\n",
    "    \"\"\"\n",
    "\n",
    "    def __init__(self, titulo, autor, genero, puntuacion):\n",
    "        \"\"\"\n",
    "        Inicializamos un nuevo objeto 'Libro'.\n",
    "\n",
    "        Parameters:\n",
    "        ----------\n",
    "    titulo : str\n",
    "        Titulo del libro.\n",
    "    autor : str\n",
    "        Author del libro.\n",
    "    genero : str\n",
    "        Genero del libro.\n",
    "    puntuacion : float\n",
    "        Rating del libro(debe ser un decimal entre 0 y 5).\n",
    "\n",
    "        Raises:\n",
    "        ------\n",
    "        ValueError:\n",
    "            SI la puntuacion no se encuentra entre 0 y 5.\n",
    "        \"\"\"\n",
    "        if not 0 <= puntuacion <= 5:\n",
    "            raise ValueError(\"La puntuación debe estar entre 0 y 5.\")\n",
    "        \n",
    "        self.titulo = titulo\n",
    "        self.autor = autor\n",
    "        self.genero = genero\n",
    "        self.puntuacion = puntuacion\n",
    "\n",
    "    def __str__(self):\n",
    "        \"\"\"\n",
    "        Regresa un string que representa el objeto 'Libro'.\n",
    "\n",
    "        Returns:\n",
    "        -------\n",
    "        str:\n",
    "            String que representa al libro con su titulo, autor, genero, y puntuacion.\n",
    "        \"\"\"\n",
    "        return f\"'titulo: {self.titulo}' - autor: {self.autor} - Genre: {self.genero}, puntuacion: {self.puntuacion}\""
   ]
  },
  {
   "cell_type": "code",
   "execution_count": null,
   "id": "120fcb24-bd4d-48fa-8a65-9df5d1396d20",
   "metadata": {},
   "outputs": [],
   "source": [
    "# Test\n",
    "if __name__ == \"__main__\":\n",
    "    try:\n",
    "        libro1 = Libro(\"Cien años de soledad\", \"Gabriel García Márquez\", \"Ficción\", 4.5)\n",
    "        print(libro1)\n",
    "        \n",
    "        # This will raise a ValueError\n",
    "        libro2 = Libro(\"1984\", \"George Orwell\", \"Ciencia Ficción\", 6.0)\n",
    "    except ValueError as e:\n",
    "        print(f\"Error: {e}\")"
   ]
  },
  {
   "cell_type": "markdown",
   "id": "8700d744-2f8c-41c1-9613-81c5b40ae63b",
   "metadata": {
    "jp-MarkdownHeadingCollapsed": true
   },
   "source": [
    "# Creamos la lista para almacenar los objetos de la clase 'Libro'"
   ]
  },
  {
   "cell_type": "code",
   "execution_count": null,
   "id": "92101dab-d063-4196-8ffb-e2c1ba38272e",
   "metadata": {},
   "outputs": [],
   "source": [
    "# Inicializa la lista de libros\n",
    "lista_libros = []"
   ]
  },
  {
   "cell_type": "code",
   "execution_count": null,
   "id": "1b6193f4-0c20-4e1e-98b2-cf3588439375",
   "metadata": {},
   "outputs": [],
   "source": [
    "# Test\n",
    "if __name__ == \"__main__\":\n",
    "    try:\n",
    "        # Creando y agregando libros a la lista\n",
    "        libro1 = Libro(\"Cien años de soledad\", \"Gabriel García Márquez\", \"Ficción\", 4.5)\n",
    "        lista_libros.append(libro1)\n",
    "\n",
    "        # Mostrar todos los libros en la lista\n",
    "        for libro in lista_libros:\n",
    "            print(libro)\n",
    "\n",
    "    except ValueError as e:\n",
    "        print(f\"Error: {e}\")"
   ]
  },
  {
   "cell_type": "markdown",
   "id": "778b1a9d-9830-4c44-9eb3-e6cfc6c8675c",
   "metadata": {
    "jp-MarkdownHeadingCollapsed": true
   },
   "source": [
    "# Creamos el bucle principal con las funcionalidades solicitadas"
   ]
  },
  {
   "cell_type": "code",
   "execution_count": null,
   "id": "76f3e687-4ee3-4273-b7c8-4105d2fca112",
   "metadata": {},
   "outputs": [],
   "source": [
    "def agregar_libro(lista_libros):\n",
    "    \"\"\"\n",
    "    Solicita al usuario que ingrese el título, autor, género y puntuación de un libro,\n",
    "    crea un objeto Libro y lo agrega a la lista de libros.\n",
    "\n",
    "    Parameters:\n",
    "    ----------\n",
    "    lista_libros : list\n",
    "        La lista donde se almacenan los objetos de la clase Libro.\n",
    "    \"\"\"\n",
    "    try:\n",
    "        titulo = input(\"Ingrese el título del libro: \")\n",
    "        autor = input(\"Ingrese el autor del libro: \")\n",
    "        genero = input(\"Ingrese el género del libro: \")\n",
    "        puntuacion = float(input(\"Ingrese la puntuación del libro (0-5): \"))\n",
    "\n",
    "        libro = Libro(titulo, autor, genero, puntuacion)\n",
    "        lista_libros.append(libro)\n",
    "        print(f\"Libro '{titulo}' agregado exitosamente.\")\n",
    "    except ValueError as e:\n",
    "        print(f\"Error: {e}\")\n",
    "\n",
    "def buscar_libros_por_genero(lista_libros):\n",
    "    \"\"\"\n",
    "    Solicita al usuario que ingrese un género y muestra los títulos de libros \n",
    "    correspondientes a ese género en la lista de libros.\n",
    "\n",
    "    Parameters:\n",
    "    ----------\n",
    "    lista_libros : list\n",
    "        La lista donde se almacenan los objetos de la clase Libro.\n",
    "    \"\"\"\n",
    "    genero = input(\"Ingrese el género que desea buscar: \")\n",
    "    libros_encontrados = [libro.titulo for libro in lista_libros if libro.genero.lower() == genero.lower()]\n",
    "\n",
    "    if libros_encontrados:\n",
    "        print(f\"Libros encontrados en el género '{genero}':\")\n",
    "        for titulo in libros_encontrados:\n",
    "            print(titulo)\n",
    "    else:\n",
    "        print(f\"No se encontraron libros en el género '{genero}'.\")\n",
    "\n",
    "def recomendar_libro(lista_libros):\n",
    "    \"\"\"\n",
    "    Solicita al usuario que ingrese un género y recomienda el libro con la puntuación \n",
    "    más alta en ese género.\n",
    "\n",
    "    Parameters:\n",
    "    ----------\n",
    "    lista_libros : list\n",
    "        La lista donde se almacenan los objetos de la clase Libro.\n",
    "    \"\"\"\n",
    "    genero = input(\"Ingrese el género para la recomendación: \")\n",
    "    libros_en_genero = [libro for libro in lista_libros if libro.genero.lower() == genero.lower()]\n",
    "\n",
    "    if libros_en_genero:\n",
    "        mejor_libro = max(libros_en_genero, key=lambda libro: libro.puntuacion)\n",
    "        print(f\"Recomendación: '{mejor_libro.titulo}' por {mejor_libro.autor} con una puntuación de {mejor_libro.puntuacion}.\")\n",
    "    else:\n",
    "        print(f\"No hay libros para recomendar en el género '{genero}'.\")\n",
    "\n",
    "if __name__ == \"__main__\":\n",
    "    lista_libros = []\n",
    "    \n",
    "    while True:\n",
    "        print(\"\\nMenú de opciones:\")\n",
    "        print(\"1. Agregar Libro\")\n",
    "        print(\"2. Buscar Libros por Género\")\n",
    "        print(\"3. Recomendar Libro\")\n",
    "        print(\"4. Salir\")\n",
    "\n",
    "        opcion = input(\"Seleccione una opción (1-4): \")\n",
    "\n",
    "        if opcion == '1':\n",
    "            agregar_libro(lista_libros)\n",
    "        elif opcion == '2':\n",
    "            buscar_libros_por_genero(lista_libros)\n",
    "        elif opcion == '3':\n",
    "            recomendar_libro(lista_libros)\n",
    "        elif opcion == '4':\n",
    "            print(\"Saliendo del programa...\")\n",
    "            break\n",
    "        else:\n",
    "            print(\"Opción no válida. Intente nuevamente.\")"
   ]
  },
  {
   "cell_type": "markdown",
   "id": "365bdd8d-320e-4a7c-8740-ca01306ecb01",
   "metadata": {},
   "source": [
    "# Sumamos la posibilidad de cargar los datos de los libros desde un csv"
   ]
  },
  {
   "cell_type": "code",
   "execution_count": null,
   "id": "1e420f13-c101-44a0-85bf-56dbe1c07b05",
   "metadata": {},
   "outputs": [],
   "source": [
    "def cargar_libros_desde_csv(ruta_archivo, lista_libros):\n",
    "    \"\"\"\n",
    "    Lee un archivo CSV que contiene detalles sobre los libros, crea objetos de la clase Libro\n",
    "    y los agrega a la lista de libros.\n",
    "\n",
    "    Parameters:\n",
    "    ----------\n",
    "    ruta_archivo : str\n",
    "        La ruta al archivo CSV que contiene los datos de los libros.\n",
    "    lista_libros : list\n",
    "        La lista donde se almacenan los objetos de la clase Libro.\n",
    "\n",
    "    Raises:\n",
    "    ------\n",
    "    FileNotFoundError:\n",
    "        Si el archivo CSV no se encuentra en la ruta especificada.\n",
    "    ValueError:\n",
    "        Si algún dato en el archivo CSV no es válido para crear un objeto Libro.\n",
    "    \"\"\"\n",
    "    try:\n",
    "        with open(ruta_archivo, newline='', encoding='utf-8') as csvfile:\n",
    "            lector = csv.reader(csvfile)\n",
    "            next(lector)  # Saltar la cabecera del CSV\n",
    "            for fila in lector:\n",
    "                try:\n",
    "                    titulo, autor, genero, puntuacion = fila\n",
    "                    puntuacion = float(puntuacion)  # Convertir puntuación a float\n",
    "                    libro = Libro(titulo, autor, genero, puntuacion)\n",
    "                    lista_libros.append(libro)\n",
    "                except ValueError as e:\n",
    "                    print(f\"Error en los datos de la fila: {fila}. Error: {e}\")\n",
    "    except FileNotFoundError:\n",
    "        print(f\"Error: No se encontró el archivo en la ruta '{ruta_archivo}'.\")"
   ]
  },
  {
   "cell_type": "markdown",
   "id": "245381a1-1815-4a93-8dd0-5110417e6146",
   "metadata": {},
   "source": [
    "## Version final"
   ]
  },
  {
   "cell_type": "code",
   "execution_count": null,
   "id": "6f051d69-7781-4162-bd27-87eafde498d0",
   "metadata": {},
   "outputs": [],
   "source": [
    "def ejecutar_sistema_recomendacion():\n",
    "    \"\"\"\n",
    "    Ejecuta el sistema de recomendación de libros. Presenta un menú de opciones\n",
    "    al usuario para agregar libros, buscar por género, recomendar libros, cargar\n",
    "    libros desde un archivo CSV o salir del programa.\n",
    "    \"\"\"\n",
    "    lista_libros = []\n",
    "\n",
    "    while True:\n",
    "        print(\"\\nMenú de opciones:\")\n",
    "        print(\"1. Agregar Libro\")\n",
    "        print(\"2. Buscar Libros por Género\")\n",
    "        print(\"3. Recomendar Libro\")\n",
    "        print(\"4. Cargar Libros desde CSV\")\n",
    "        print(\"5. Salir\")\n",
    "\n",
    "        opcion = input(\"Seleccione una opción (1-5): \")\n",
    "\n",
    "        if opcion == '1':\n",
    "            agregar_libro(lista_libros)\n",
    "        elif opcion == '2':\n",
    "            buscar_libros_por_genero(lista_libros)\n",
    "        elif opcion == '3':\n",
    "            recomendar_libro(lista_libros)\n",
    "        elif opcion == '4':\n",
    "            ruta_csv = input(\"Ingrese la ruta del archivo CSV: \")\n",
    "            cargar_libros_desde_csv(ruta_csv, lista_libros)\n",
    "        elif opcion == '5':\n",
    "            print(\"Saliendo del programa...\")\n",
    "            break\n",
    "        else:\n",
    "            print(\"Opción no válida. Intente nuevamente.\")\n",
    "\n",
    "\n",
    "if __name__ == \"__main__\":\n",
    "    ejecutar_sistema_recomendacion()"
   ]
  }
 ],
 "metadata": {
  "kernelspec": {
   "display_name": "Python 3 (ipykernel)",
   "language": "python",
   "name": "python3"
  },
  "language_info": {
   "codemirror_mode": {
    "name": "ipython",
    "version": 3
   },
   "file_extension": ".py",
   "mimetype": "text/x-python",
   "name": "python",
   "nbconvert_exporter": "python",
   "pygments_lexer": "ipython3",
   "version": "3.12.4"
  }
 },
 "nbformat": 4,
 "nbformat_minor": 5
}
